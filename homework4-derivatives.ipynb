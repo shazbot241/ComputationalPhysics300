{
 "cells": [
  {
   "cell_type": "code",
   "execution_count": 7,
   "metadata": {},
   "outputs": [],
   "source": [
    "theta = 428\n",
    "density = 6.022*10**28 # defining the givens\n",
    "V = 1000\n",
    "k = 1.38064852*10**(-23)\n",
    "Tlower = 0.0000001 # Tlower cannot be exactly equal to zero, or we will be dividing by zero\n",
    "T1, T2 = 5, 500 # we will evaluate the integral for both T = 5 and T = 500 and compare\n",
    "N = 100 # I will use n = 100 with Simpson's rule\n",
    "\n",
    "# Let's define the integral function first, and we are going to use Simpson's rule.\n",
    "import numpy as np\n",
    "from math import exp\n",
    "import matplotlib.pyplot as plt\n",
    "%matplotlib inline\n",
    "def integral(lower, upper, n, method = 'Rectangle'):\n",
    "    Sum = 0\n",
    "    deltaX = (upper - lower)/n\n",
    "    def f(x):\n",
    "        numerator = x**4*exp(x)\n",
    "        denominator = (exp(x) - 1)**2 # at x = 0, this is undefined. So we will integrate from x = .0001 instead of x = 0\n",
    "        return numerator/denominator \n",
    "    \n",
    "    if method == 'Rectangle':\n",
    "        x = np.linspace(lower, upper, n)\n",
    "        for i in x:\n",
    "            Sum = Sum + f(i)\n",
    "        area = deltaX*Sum\n",
    "        return area\n",
    "    elif method == 'Trapezoid':\n",
    "        x1 = lower\n",
    "        x2 = x1 + deltaX\n",
    "        while x2 <= upper:\n",
    "            Sum = Sum + (deltaX/2)*(f(x1) + f(x2))\n",
    "            x1 = x2\n",
    "            x2 = x1 + deltaX\n",
    "        return Sum\n",
    "    elif method == 'Simpson':\n",
    "        x1 = lower\n",
    "        x2 = x1 + deltaX\n",
    "        x3 = x2 + deltaX\n",
    "        while x3 <= upper:\n",
    "            Sum = Sum + (deltaX/3)*(f(x1) + 4*f(x2) + f(x3))\n",
    "            x1 = x3\n",
    "            x2 = x1 + deltaX\n",
    "            x3 = x2 + deltaX\n",
    "        return Sum\n",
    "    else:\n",
    "        print('Choose a method from any of the following: Rectangle, Trapezoid, Simpson')\n",
    "        return None"
   ]
  },
  {
   "cell_type": "code",
   "execution_count": 8,
   "metadata": {
    "scrolled": true
   },
   "outputs": [
    {
     "name": "stdout",
     "output_type": "stream",
     "text": [
      "Using Simpson's rule, we get the following calculations:\n",
      "When T = 5 K, Cv = 309894.1210133556\n",
      "When T = 500 K, Cv = 2267025398.5033855\n"
     ]
    }
   ],
   "source": [
    "print(\"Using Simpson's rule, we get the following calculations:\")\n",
    "print('When T = 5 K, Cv =', 9*V*density*k*((T1/theta)**3)*integral(Tlower, theta/T1, N, 'Simpson'))\n",
    "print('When T = 500 K, Cv =', 9*V*density*k*((T2/theta)**3)*integral(Tlower, theta/T2, N, 'Simpson'))"
   ]
  },
  {
   "cell_type": "markdown",
   "metadata": {},
   "source": [
    "So the above values were calculated using numerical integration. We will now be integrating the same function using scipy and compare the results with the above results."
   ]
  },
  {
   "cell_type": "code",
   "execution_count": 9,
   "metadata": {},
   "outputs": [
    {
     "name": "stdout",
     "output_type": "stream",
     "text": [
      "Using scipy.integrate.quad, we get the following calculations:\n",
      "When T = 5 K, Cv = 309894.10958661174\n",
      "when T = 500 K, Cv = 2405235622.6381607\n"
     ]
    }
   ],
   "source": [
    "from scipy import integrate\n",
    "constant1, constant2 = 9*V*density*k*(T1/theta)**3, 9*V*density*k*(T2/theta)**3\n",
    "\n",
    "# redefine the same function\n",
    "def g(x):\n",
    "    numerator = (x**4)*exp(x)\n",
    "    denominator = (exp(x) - 1)**2\n",
    "    return numerator/denominator\n",
    "print('Using scipy.integrate.quad, we get the following calculations:')\n",
    "print('When T = 5 K, Cv =', constant1*integrate.quad(g, Tlower, theta/T1)[0])\n",
    "print('when T = 500 K, Cv =', constant2*integrate.quad(g, Tlower, theta/T2)[0])"
   ]
  },
  {
   "cell_type": "markdown",
   "metadata": {},
   "source": [
    "As we can see, using the integrate.quad function gives results that are very close to the results obtained by numerical integration. This means that Simpson's rule is very accurate and reliable tool to approximate area under the curve."
   ]
  },
  {
   "cell_type": "markdown",
   "metadata": {},
   "source": [
    "Now, let us plot $ C_v $ as a function of $ T $."
   ]
  },
  {
   "cell_type": "code",
   "execution_count": 29,
   "metadata": {},
   "outputs": [],
   "source": [
    "def C(t):\n",
    "    Constant =  9*V*density*k*((t/theta)**3)\n",
    "    return Constant*integral(Tlower, theta/t, 1000, 'Simpson')"
   ]
  },
  {
   "cell_type": "code",
   "execution_count": 38,
   "metadata": {},
   "outputs": [
    {
     "data": {
      "image/png": "[encoded data removed]",
      "text/plain": [
       "<Figure size 432x288 with 1 Axes>"
      ]
     },
     "metadata": {
      "needs_background": "light"
     },
     "output_type": "display_data"
    }
   ],
   "source": [
    "x = np.linspace(5, 500, 496)\n",
    "y = np.array([C(i) for i in x])\n",
    "plt.plot(x, y, 'm')\n",
    "plt.xlabel('T')\n",
    "plt.ylabel('$C_v$')\n",
    "plt.legend(['$C_v$'], loc = 'upper left')\n",
    "plt.show()"
   ]
  },
  {
   "cell_type": "markdown",
   "metadata": {},
   "source": [
    "Looking at the graph, it seems that $ C_v $ is an increasing function. As $ T $ increases from $ T = 5 $ to $ T = 500 $, $ C_v $ also increases, but it looks like $ C_v $ is approaching a limit(it looks bounded above at a value $ 2.5 $ raised to some power."
   ]
  }
 ],
 "metadata": {
  "kernelspec": {
   "display_name": "Python 3",
   "language": "python",
   "name": "python3"
  },
  "language_info": {
   "codemirror_mode": {
    "name": "ipython",
    "version": 3
   },
   "file_extension": ".py",
   "mimetype": "text/x-python",
   "name": "python",
   "nbconvert_exporter": "python",
   "pygments_lexer": "ipython3",
   "version": "3.7.1"
  }
 },
 "nbformat": 4,
 "nbformat_minor": 2
}
