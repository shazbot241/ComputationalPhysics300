{
 "cells": [
  {
   "cell_type": "markdown",
   "metadata": {},
   "source": [
    "# Importance Sampling Method"
   ]
  },
  {
   "cell_type": "markdown",
   "metadata": {},
   "source": [
    "Consider the following integral:"
   ]
  },
  {
   "cell_type": "markdown",
   "metadata": {},
   "source": [
    "## $ \\int_{0}^{1} \\frac{x^{-1/2}}{e^{x} + 1}dx $ "
   ]
  },
  {
   "cell_type": "markdown",
   "metadata": {},
   "source": [
    "which has the following weighted function"
   ]
  },
  {
   "cell_type": "markdown",
   "metadata": {},
   "source": [
    "## $ w(x) = x^{-1/2} $"
   ]
  },
  {
   "cell_type": "markdown",
   "metadata": {},
   "source": [
    "We want to estimate this integral using the Importance Sampling Method."
   ]
  },
  {
   "cell_type": "code",
   "execution_count": 15,
   "metadata": {},
   "outputs": [
    {
     "data": {
      "image/png": "[encoded data removed]",
      "text/plain": [
       "<Figure size 432x288 with 1 Axes>"
      ]
     },
     "metadata": {
      "needs_background": "light"
     },
     "output_type": "display_data"
    }
   ],
   "source": [
    "import numpy as np\n",
    "from random import random\n",
    "from scipy.integrate import quad\n",
    "import matplotlib.pyplot as plt\n",
    "%matplotlib inline\n",
    "\n",
    "# Define IMC\n",
    "def IMC(pdf, weighted, lower, upper, N):\n",
    "    constant = quad(weighted, lower, upper)[0]\n",
    "    Sum = 0\n",
    "    for i in range(1, N + 1, 1):\n",
    "        x = random()\n",
    "        Sum = Sum + pdf(x)/weighted(x)\n",
    "    return constant*Sum/N\n",
    "    \n",
    "N = 1000000 # total number of random points\n",
    "w = lambda x: x**(-1/2)\n",
    "f = lambda x: (x**(-1/2))/(np.exp(x) + 1)\n",
    "\n",
    "xi = np.linspace(0.01, 1, 100) # we cannot divide by zero, so use 0.01 instead of 0\n",
    "yi = f(xi)\n",
    "plt.plot(xi, yi, label = '$ f(x) $')\n",
    "plt.plot(xi, w(xi), label = '$ w(x) $')\n",
    "plt.legend()\n",
    "plt.show()"
   ]
  },
  {
   "cell_type": "markdown",
   "metadata": {},
   "source": [
    "Based on this graph, $ w(x) = x^{-1/2} $ is a very good choice for the weighted function because it is very close to $ f(x) $ in terms of shape."
   ]
  },
  {
   "cell_type": "markdown",
   "metadata": {},
   "source": [
    "Using Importance Sampling Method with $ N = 1,000,000 $, the integral is estimated to be"
   ]
  },
  {
   "cell_type": "code",
   "execution_count": 17,
   "metadata": {},
   "outputs": [
    {
     "data": {
      "text/plain": [
       "0.7597957790156706"
      ]
     },
     "execution_count": 17,
     "metadata": {},
     "output_type": "execute_result"
    }
   ],
   "source": [
    "IMC(f, w, 0, 1, N)"
   ]
  },
  {
   "cell_type": "markdown",
   "metadata": {},
   "source": [
    "Now, let us compare this value to what we get using Simpson's Rule."
   ]
  },
  {
   "cell_type": "code",
   "execution_count": 19,
   "metadata": {},
   "outputs": [],
   "source": [
    "from math import exp\n",
    "def integral(function, lower, upper, n, method = 'Rectangle'):\n",
    "    Sum = 0\n",
    "    deltaX = (upper - lower)/n\n",
    "    if method == 'Rectangle':\n",
    "        x = np.linspace(lower, upper, n)\n",
    "        for i in x:\n",
    "            Sum = Sum + function(i)\n",
    "        area = deltaX*Sum\n",
    "        return area\n",
    "    elif method == 'Trapezoid':\n",
    "        x1 = lower\n",
    "        x2 = x1 + deltaX\n",
    "        while x2 <= upper:\n",
    "            Sum = Sum + (deltaX/2)*(function(x1) + function(x2))\n",
    "            x1 = x2\n",
    "            x2 = x1 + deltaX\n",
    "        return Sum\n",
    "    elif method == 'Simpson':\n",
    "        x1 = lower\n",
    "        x2 = x1 + deltaX\n",
    "        x3 = x2 + deltaX\n",
    "        while x3 <= upper:\n",
    "            Sum = Sum + (deltaX/3)*(function(x1) + 4*function(x2) + function(x3))\n",
    "            x1 = x3\n",
    "            x2 = x1 + deltaX\n",
    "            x3 = x2 + deltaX\n",
    "        return Sum\n",
    "    else:\n",
    "        print('Choose a method from any of the following: Rectangle, Trapezoid, Simpson')\n",
    "        return None"
   ]
  },
  {
   "cell_type": "markdown",
   "metadata": {},
   "source": [
    "Using Simpson's Rule with $ N = 1,000,000 $, the integral is estimated to be"
   ]
  },
  {
   "cell_type": "code",
   "execution_count": 22,
   "metadata": {},
   "outputs": [
    {
     "data": {
      "text/plain": [
       "0.7390996260872071"
      ]
     },
     "execution_count": 22,
     "metadata": {},
     "output_type": "execute_result"
    }
   ],
   "source": [
    "integral(f, 0.01, 1, N, method = 'Simpson')"
   ]
  },
  {
   "cell_type": "markdown",
   "metadata": {},
   "source": [
    "So, we are pretty close. Let us now work with the other integral."
   ]
  },
  {
   "cell_type": "markdown",
   "metadata": {},
   "source": [
    "Consider the next integral:"
   ]
  },
  {
   "cell_type": "markdown",
   "metadata": {},
   "source": [
    "## $ \\int_{0}^{1} \\frac{x^{-1}}{e^{x} + 1}dx $"
   ]
  },
  {
   "cell_type": "markdown",
   "metadata": {},
   "source": [
    "Let us define the integrand as a function of x and plot it from $ x = 0 $ to $ x = 1 $ to see if maybe we can find the right weighted function for it."
   ]
  },
  {
   "cell_type": "code",
   "execution_count": 37,
   "metadata": {},
   "outputs": [
    {
     "data": {
      "image/png": "[encoded data removed]",
      "text/plain": [
       "<Figure size 432x288 with 1 Axes>"
      ]
     },
     "metadata": {
      "needs_background": "light"
     },
     "output_type": "display_data"
    }
   ],
   "source": [
    "f = lambda x: 1/(x*(exp(x) + 1))\n",
    "xi = np.linspace(0.01, 1, 100)\n",
    "yi = [f(i) for i in xi]\n",
    "plt.plot(xi, yi, label = '$f(x)$')\n",
    "plt.legend()\n",
    "plt.show()"
   ]
  },
  {
   "cell_type": "markdown",
   "metadata": {},
   "source": [
    "One function that should come to mind when considering a weighted function $ w(x) $ is $ 1/x $. Let us add the graph of $ w(x) = 1/x $ to the plot and see how close its shape is to the shape of $ f(x) $."
   ]
  },
  {
   "cell_type": "code",
   "execution_count": 50,
   "metadata": {},
   "outputs": [
    {
     "data": {
      "image/png": "[encoded data removed]",
      "text/plain": [
       "<Figure size 432x288 with 1 Axes>"
      ]
     },
     "metadata": {
      "needs_background": "light"
     },
     "output_type": "display_data"
    }
   ],
   "source": [
    "w = lambda x: 1/x\n",
    "y2 = [w(j) for j in xi]\n",
    "plt.plot(xi, yi, label = '$f(x)$')\n",
    "plt.plot(xi, y2, label = '$w(x)$')\n",
    "plt.legend()\n",
    "plt.show()"
   ]
  },
  {
   "cell_type": "markdown",
   "metadata": {},
   "source": [
    "So they are pretty close in terms of shape. This should reduce the variance significantly. Let us estimate the integral using the $ IMC $ method first and compare it with what we get later using Simpson's Rule."
   ]
  },
  {
   "cell_type": "markdown",
   "metadata": {},
   "source": [
    "Using Importance Sampling Method with $ N = 1,000,000 $, the integral is estimated to be"
   ]
  },
  {
   "cell_type": "code",
   "execution_count": 51,
   "metadata": {},
   "outputs": [
    {
     "data": {
      "text/plain": [
       "3.4990135331131675"
      ]
     },
     "execution_count": 51,
     "metadata": {},
     "output_type": "execute_result"
    }
   ],
   "source": [
    "IMC(f, w, 0.0001, 1, N)"
   ]
  },
  {
   "cell_type": "markdown",
   "metadata": {},
   "source": [
    "Using Simpson's Rule with $ N = 1,000,000 $, the integral is estimated to be"
   ]
  },
  {
   "cell_type": "code",
   "execution_count": 53,
   "metadata": {},
   "outputs": [
    {
     "data": {
      "text/plain": [
       "3.2106833416971283"
      ]
     },
     "execution_count": 53,
     "metadata": {},
     "output_type": "execute_result"
    }
   ],
   "source": [
    "integral(f, 0.001, 1, N, method = 'Simpson')"
   ]
  },
  {
   "cell_type": "markdown",
   "metadata": {},
   "source": [
    "Again, they are pretty close in value."
   ]
  }
 ],
 "metadata": {
  "kernelspec": {
   "display_name": "Python 3",
   "language": "python",
   "name": "python3"
  },
  "language_info": {
   "codemirror_mode": {
    "name": "ipython",
    "version": 3
   },
   "file_extension": ".py",
   "mimetype": "text/x-python",
   "name": "python",
   "nbconvert_exporter": "python",
   "pygments_lexer": "ipython3",
   "version": "3.7.3"
  }
 },
 "nbformat": 4,
 "nbformat_minor": 2
}
