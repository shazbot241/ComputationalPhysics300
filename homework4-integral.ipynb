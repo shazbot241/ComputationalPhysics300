{
 "cells": [
  {
   "cell_type": "markdown",
   "metadata": {},
   "source": [
    "Consider the following integral:\n",
    "\n",
    "$\\int_{0}^{3} exp(-x^2) dx$\n",
    "\n",
    "We can actually evaluate this integral and find its exact value using normal integration, but we want to know how to do it numerically. For this integral, we want to use three different numerical integration methods: The use of rectangles, trapezoid rule, and the Simpson's rule. Let us do it with the rectangle method first, but we need to define the function first."
   ]
  },
  {
   "cell_type": "markdown",
   "metadata": {},
   "source": [
    "## The Rectangle Rule"
   ]
  },
  {
   "cell_type": "code",
   "execution_count": 6,
   "metadata": {},
   "outputs": [],
   "source": [
    "# Using the rectangle method\n",
    "import numpy as np\n",
    "from math import exp\n",
    "def rectangle(lower, upper, n):\n",
    "    deltaX = (upper - lower)/n\n",
    "    x = np.linspace(lower, upper, n)\n",
    "    Sum = 0\n",
    "    f = lambda x: exp(-x**2)\n",
    "    for i in x:\n",
    "        Sum = Sum + f(i)\n",
    "    area = deltaX*Sum\n",
    "    return area"
   ]
  },
  {
   "cell_type": "code",
   "execution_count": 14,
   "metadata": {},
   "outputs": [
    {
     "name": "stdout",
     "output_type": "stream",
     "text": [
      "When n = 10 the area from x = 0 to x = 3 is 0.9475992785537809\n",
      "When n = 100 the area from x = 0 to x = 3 is 0.8923470698543654\n",
      "When n = 1000 the area from x = 0 to x = 3 is 0.8868213254700711\n",
      "When n = 10000 the area from x = 0 to x = 3 is 0.8862687460306149\n"
     ]
    }
   ],
   "source": [
    "N = [10, 100, 1000, 10000]\n",
    "for i in N:\n",
    "    print('When n =', i, 'the area from x = 0 to x = 3 is', rectangle(0, 3, i))"
   ]
  },
  {
   "cell_type": "markdown",
   "metadata": {},
   "source": [
    "As we can see, as we increase the number of rectangles, the area approximation under the curve should get closer and closer to its exact numerical value, but will never be exact. Now, let us see what happens if we use $ n = 1,000,000 $."
   ]
  },
  {
   "cell_type": "code",
   "execution_count": 9,
   "metadata": {},
   "outputs": [
    {
     "name": "stdout",
     "output_type": "stream",
     "text": [
      "0.8862079622372389\n"
     ]
    }
   ],
   "source": [
    "print(rectangle(0, 3, 1000000))"
   ]
  },
  {
   "cell_type": "markdown",
   "metadata": {},
   "source": [
    "This value is not much different for the values using $ n = 1000 $ and $ n = 10,000 $. Therefore, we can assume that the exact value of the integral should be around the last value calculated at $ n = 1,000,000 $."
   ]
  },
  {
   "cell_type": "markdown",
   "metadata": {},
   "source": [
    "## The Trapezoid Rule"
   ]
  },
  {
   "cell_type": "markdown",
   "metadata": {},
   "source": [
    "Consider the following formula:\n",
    "\n",
    "$ \\Delta_x = (b - a)/n $ ; where $ n $ is the number of trapezoids under the curve between $ x = a $ and $ x = b $. $ \\Delta_x $ is the width of each trapezoid's base. Also, consider the sum of the area under the trapezoid:\n",
    "\n",
    "$ Area = \\frac{\\Delta_x}{2}(f(\\ x_1) + f(\\ x_2)) + \\frac{\\Delta_x}{2}(f(\\ x_2) + f(\\ x_3)) +  \\frac{\\Delta_x}{2}(f(\\ x_3) + f(\\ x_4)) + ... $\n",
    "\n",
    "Notice we have three different values in the parenthesis:\n",
    "$ Value1 = \\frac{\\Delta_x}{2}(f(\\ x_1) + f(\\ x_2)) $, \n",
    "$ Value2 = \\frac{\\Delta_x}{2}(f(\\ x_2) + f(\\ x_3)) $, \n",
    "$ Value3 = \\frac{\\Delta_x}{2}(f(\\ x_3) + f(\\ x_4)) $. This pattern will keep going depending on how large the value of our $ n $ is. Notice that the first $ x $ of $ Value2,  x_2 $, is the last $ x $ of $ Value1 $, and the first $ x $ of $ Value3 $, $ x_3 $, was the last $ x $ of $ Value2 $. This means that when we define the function for the Trapezoid rule, $ x_1 $ will keep updating by making it the last $ x $  value from the last iteration. Let us define the Trapezoid rule as a function and calculate the integral above."
   ]
  },
  {
   "cell_type": "code",
   "execution_count": 17,
   "metadata": {},
   "outputs": [],
   "source": [
    "def trapezoid(lower, upper, n):\n",
    "    deltaX = (upper - lower)/n\n",
    "    x1 = lower\n",
    "    x2 = x1 + deltaX\n",
    "    Sum = 0\n",
    "    f = lambda x: exp(-x**2)\n",
    "    while x2 <= upper: # we have to keep checking that x2 will be at most equal to the value of the upper bound.\n",
    "        Sum = Sum + (deltaX/2)*(f(x1) + f(x2))\n",
    "        x1 = x2 # the new x1 will be equal to the x2 from the last iteration\n",
    "        x2 = x1 + deltaX\n",
    "    return Sum"
   ]
  },
  {
   "cell_type": "code",
   "execution_count": 18,
   "metadata": {},
   "outputs": [
    {
     "name": "stdout",
     "output_type": "stream",
     "text": [
      "When n = 10 the area from x = 0 to x = 3 by Trapezoid rule is 0.8862020336373999\n",
      "When n = 100 the area from x = 0 to x = 3 by Trapezoid rule is 0.8862072927500882\n",
      "When n = 1000 the area from x = 0 to x = 3 by Trapezoid rule is 0.8862069741142343\n",
      "When n = 10000 the area from x = 0 to x = 3 by Trapezoid rule is 0.8862073111977041\n"
     ]
    }
   ],
   "source": [
    "for i in N:\n",
    "    print('When n =', i, 'the area from x = 0 to x = 3 by Trapezoid rule is', trapezoid(0, 3, i))"
   ]
  },
  {
   "cell_type": "markdown",
   "metadata": {},
   "source": [
    "Let's see what happens if we increase the value of $ n $ to $ n = 1,000,000 $."
   ]
  },
  {
   "cell_type": "code",
   "execution_count": 20,
   "metadata": {},
   "outputs": [
    {
     "name": "stdout",
     "output_type": "stream",
     "text": [
      "When n = 1,000,000, the area by the Trapezoid rule is 0.8862073482645872\n"
     ]
    }
   ],
   "source": [
    "print('When n = 1,000,000,', 'the area by the Trapezoid rule is', trapezoid(0, 3, 1000000))"
   ]
  },
  {
   "cell_type": "markdown",
   "metadata": {},
   "source": [
    "## The Simpson's Rule"
   ]
  },
  {
   "cell_type": "markdown",
   "metadata": {},
   "source": [
    "Simpson's rule's process is very similar to the Trapezoid rule concept, we just need to change a few things. Consider the following formula that we can build our algorithm from. \n",
    "\n",
    "$ Area = \\frac{\\Delta_x}{3}(f(\\ x_1) + 4f(\\ x_2) + f(\\ x_3)) + ... $ We can define Simpson's rule function just by looking at this formula."
   ]
  },
  {
   "cell_type": "code",
   "execution_count": 21,
   "metadata": {},
   "outputs": [],
   "source": [
    "def Simpson(lower, upper, n):\n",
    "    deltaX = (upper - lower)/n\n",
    "    x1 = lower\n",
    "    x2 = x1 + deltaX\n",
    "    x3 = x2 + deltaX\n",
    "    f = lambda x: exp(-x**2)\n",
    "    Sum = 0\n",
    "    while x3 <= upper:\n",
    "        Sum = Sum + (deltaX/3)*(f(x1) + 4*f(x2) + f(x3))\n",
    "        x1 = x3\n",
    "        x2 = x1 + deltaX\n",
    "        x3 = x2 + deltaX\n",
    "    return Sum"
   ]
  },
  {
   "cell_type": "code",
   "execution_count": 22,
   "metadata": {},
   "outputs": [
    {
     "name": "stdout",
     "output_type": "stream",
     "text": [
      "when n = 10 , by Simpson rule, the area from x = 0 to x = 3 is 0.8862065522460074\n",
      "when n = 100 , by Simpson rule, the area from x = 0 to x = 3 is 0.8862073481597856\n",
      "when n = 1000 , by Simpson rule, the area from x = 0 to x = 3 is 0.8862065943201712\n",
      "when n = 10000 , by Simpson rule, the area from x = 0 to x = 3 is 0.8862072740802331\n"
     ]
    }
   ],
   "source": [
    "for i in N:\n",
    "    print('when n =', i, ', by Simpson rule, the area from x = 0 to x = 3 is', Simpson(0, 3, i))"
   ]
  },
  {
   "cell_type": "markdown",
   "metadata": {},
   "source": [
    "Just like before, for Simpson's rule, let us check the area under the curve from $ x = 0 $ to $ x = 3 $ for $ n = 1,000,000 $."
   ]
  },
  {
   "cell_type": "code",
   "execution_count": 23,
   "metadata": {},
   "outputs": [
    {
     "name": "stdout",
     "output_type": "stream",
     "text": [
      "When n = 1,000,000, by Simpson's rule, the area from x = 0 to x = 3 is 0.8862073482645902\n"
     ]
    }
   ],
   "source": [
    "print(\"When n = 1,000,000, by Simpson's rule, the area from x = 0 to x = 3 is\", Simpson(0, 3, 1000000) )"
   ]
  },
  {
   "cell_type": "markdown",
   "metadata": {},
   "source": [
    "This is very close to the results from previous calculations using different methods."
   ]
  }
 ],
 "metadata": {
  "kernelspec": {
   "display_name": "Python 3",
   "language": "python",
   "name": "python3"
  },
  "language_info": {
   "codemirror_mode": {
    "name": "ipython",
    "version": 3
   },
   "file_extension": ".py",
   "mimetype": "text/x-python",
   "name": "python",
   "nbconvert_exporter": "python",
   "pygments_lexer": "ipython3",
   "version": "3.7.3"
  }
 },
 "nbformat": 4,
 "nbformat_minor": 2
}
