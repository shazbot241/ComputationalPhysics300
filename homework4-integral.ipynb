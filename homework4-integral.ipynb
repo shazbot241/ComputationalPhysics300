{
 "cells": [
  {
   "cell_type": "markdown",
   "metadata": {},
   "source": [
    "## The Rectangle Rule"
   ]
  },
  {
   "cell_type": "markdown",
   "metadata": {},
   "source": [
    "We can actually evaluate an integral and find its exact value using normal integration, but we want to know how to do it numerically. For this integral, we want to use three different numerical integration methods: The use of rectangles, trapezoid rule, and the Simpson's rule. Let us do it with the rectangle method first, but we need to define the function first. We will define the function at the very bottom."
   ]
  },
  {
   "cell_type": "markdown",
   "metadata": {},
   "source": [
    "## The Trapezoid Rule"
   ]
  },
  {
   "cell_type": "markdown",
   "metadata": {},
   "source": [
    "Consider the following formula:\n",
    "\n",
    "$ \\Delta_x = (b - a)/n $ ; where $ n $ is the number of trapezoids under the curve between $ x = a $ and $ x = b $. $ \\Delta_x $ is the width of each trapezoid's base. Also, consider the sum of the area under the trapezoid:\n",
    "\n",
    "$ Area = \\frac{\\Delta_x}{2}(f(\\ x_1) + f(\\ x_2)) + \\frac{\\Delta_x}{2}(f(\\ x_2) + f(\\ x_3)) +  \\frac{\\Delta_x}{2}(f(\\ x_3) + f(\\ x_4)) + ... $\n",
    "\n",
    "Notice we have three different values in the parenthesis:\n",
    "$ Value1 = \\frac{\\Delta_x}{2}(f(\\ x_1) + f(\\ x_2)) $, \n",
    "$ Value2 = \\frac{\\Delta_x}{2}(f(\\ x_2) + f(\\ x_3)) $, \n",
    "$ Value3 = \\frac{\\Delta_x}{2}(f(\\ x_3) + f(\\ x_4)) $. This pattern will keep going depending on how large the value of our $ n $ is. Notice that the first $ x $ of $ Value2,  x_2 $, is the last $ x $ of $ Value1 $, and the first $ x $ of $ Value3 $, $ x_3 $, was the last $ x $ of $ Value2 $. This means that when we define the function for the Trapezoid rule, $ x_1 $ will keep updating by making it the last $ x $  value from the last iteration. "
   ]
  },
  {
   "cell_type": "markdown",
   "metadata": {},
   "source": [
    "## The Simpson's Rule"
   ]
  },
  {
   "cell_type": "markdown",
   "metadata": {},
   "source": [
    "Simpson's rule's process is very similar to the Trapezoid rule concept, we just need to change a few things. Consider the following formula that we can build our algorithm from. \n",
    "\n",
    "$ Area = \\frac{\\Delta_x}{3}(f(\\ x_1) + 4f(\\ x_2) + f(\\ x_3)) + ... $ We can define Simpson's rule function just by looking at this formula."
   ]
  },
  {
   "cell_type": "code",
   "execution_count": 14,
   "metadata": {},
   "outputs": [],
   "source": [
    "import numpy as np\n",
    "from math import exp\n",
    "def integral(lower, upper, n, method = 'Rectangle'):\n",
    "    Sum = 0\n",
    "    deltaX = (upper - lower)/n\n",
    "    f = lambda x: exp(-x**2)\n",
    "    if method == 'Rectangle':\n",
    "        x = np.linspace(lower, upper, n)\n",
    "        for i in x:\n",
    "            Sum = Sum + f(i)\n",
    "        area = deltaX*Sum\n",
    "        return area\n",
    "    elif method == 'Trapezoid':\n",
    "        x1 = lower\n",
    "        x2 = x1 + deltaX\n",
    "        while x2 <= upper:\n",
    "            Sum = Sum + (deltaX/2)*(f(x1) + f(x2))\n",
    "            x1 = x2\n",
    "            x2 = x1 + deltaX\n",
    "        return Sum\n",
    "    elif method == 'Simpson':\n",
    "        x1 = lower\n",
    "        x2 = x1 + deltaX\n",
    "        x3 = x2 + deltaX\n",
    "        while x3 <= upper:\n",
    "            Sum = Sum + (deltaX/3)*(f(x1) + 4*f(x2) + f(x3))\n",
    "            x1 = x3\n",
    "            x2 = x1 + deltaX\n",
    "            x3 = x2 + deltaX\n",
    "        return Sum\n",
    "    else:\n",
    "        print('Choose a method from any of the following: Rectangle, Trapezoid, Simpson')\n",
    "        return None"
   ]
  },
  {
   "cell_type": "markdown",
   "metadata": {},
   "source": [
    "Let's find the area of the function "
   ]
  },
  {
   "cell_type": "markdown",
   "metadata": {},
   "source": [
    "### $\\int_{0}^{3} (x^2 - x + 1) dx$"
   ]
  },
  {
   "cell_type": "markdown",
   "metadata": {},
   "source": [
    "using the methods Rectangle, Trapezoid, and Simpson."
   ]
  },
  {
   "cell_type": "code",
   "execution_count": 9,
   "metadata": {},
   "outputs": [
    {
     "name": "stdout",
     "output_type": "stream",
     "text": [
      "By Rectangle method:\n",
      "n = 10 , Area = 7.999999999999999\n",
      "n = 100 , Area = 7.545454545454545\n",
      "n = 1000 , Area = 7.504504504504509\n",
      "n = 10000 , Area = 7.500450045004515\n",
      "n = 1000000 , Area = 7.500004500004473\n",
      "By Trapezoid Rule:\n",
      "n = 10 , Area = 7.544999999999999\n",
      "n = 100 , Area = 7.5004499999999945\n",
      "n = 1000 , Area = 7.479026986499905\n",
      "n = 10000 , Area = 7.497900269987041\n",
      "n = 1000000 , Area = 7.499999999906954\n",
      "By Simpson's Rule:\n",
      "n = 10 , Area = 7.499999999999998\n",
      "n = 100 , Area = 7.499999999999994\n",
      "n = 1000 , Area = 7.458089927999906\n",
      "n = 10000 , Area = 7.4958008999285575\n",
      "n = 1000000 , Area = 7.4999999999024825\n"
     ]
    }
   ],
   "source": [
    "N = [10, 100, 1000, 10000, 1000000]\n",
    "print('By Rectangle method:')\n",
    "for i in N:\n",
    "    print('n =', i, ', Area =', integral(0, 3, i, method = 'Rectangle'))\n",
    "print('By Trapezoid Rule:')\n",
    "for j in N:\n",
    "    print('n =', j, ', Area =', integral(0, 3, j, method = 'Trapezoid'))\n",
    "print(\"By Simpson's Rule:\")\n",
    "for k in N:\n",
    "    print('n =', k, ', Area =', integral(0, 3, k, method = 'Simpson'))"
   ]
  },
  {
   "cell_type": "markdown",
   "metadata": {},
   "source": [
    "Now, let us find the area of the second function"
   ]
  },
  {
   "cell_type": "markdown",
   "metadata": {},
   "source": [
    "### $\\int_{0}^{3} (x^4 - x + 1) dx$"
   ]
  },
  {
   "cell_type": "markdown",
   "metadata": {},
   "source": [
    "using all three methods."
   ]
  },
  {
   "cell_type": "code",
   "execution_count": 12,
   "metadata": {},
   "outputs": [
    {
     "name": "stdout",
     "output_type": "stream",
     "text": [
      "By Rectangle method:\n",
      "n = 10 , Area = 55.288888888888884\n",
      "n = 100 , Area = 47.83718173470239\n",
      "n = 1000 , Area = 47.17298108107298\n",
      "n = 10000 , Area = 47.107290810081125\n",
      "n = 1000000 , Area = 47.100072900081294\n",
      "By Trapezoid Rule:\n",
      "n = 10 , Area = 47.90918999999998\n",
      "n = 100 , Area = 47.10809991899987\n",
      "n = 1000 , Area = 46.863561771476654\n",
      "n = 10000 , Area = 47.07630562428407\n",
      "n = 1000000 , Area = 47.09999999869241\n",
      "By Simpson's Rule:\n",
      "n = 10 , Area = 47.103239999999985\n",
      "n = 100 , Area = 47.10000032399987\n",
      "n = 1000 , Area = 46.62792211591768\n",
      "n = 10000 , Area = 47.05261925612518\n",
      "n = 1000000 , Area = 47.09999999861062\n"
     ]
    }
   ],
   "source": [
    "print('By Rectangle method:')\n",
    "for i in N:\n",
    "    print('n =', i, ', Area =', integral(0, 3, i, method = 'Rectangle'))\n",
    "print('By Trapezoid Rule:')\n",
    "for j in N:\n",
    "    print('n =', j, ', Area =', integral(0, 3, j, method = 'Trapezoid'))\n",
    "print(\"By Simpson's Rule:\")\n",
    "for k in N:\n",
    "    print('n =', k, ', Area =', integral(0, 3, k, method = 'Simpson'))"
   ]
  },
  {
   "cell_type": "markdown",
   "metadata": {},
   "source": [
    "Finally, let us calculate the area of the last function"
   ]
  },
  {
   "cell_type": "markdown",
   "metadata": {},
   "source": [
    "### $\\int_{0}^{3} exp(-x^2) dx$"
   ]
  },
  {
   "cell_type": "markdown",
   "metadata": {},
   "source": [
    "using all three methods."
   ]
  },
  {
   "cell_type": "code",
   "execution_count": 15,
   "metadata": {},
   "outputs": [
    {
     "name": "stdout",
     "output_type": "stream",
     "text": [
      "By Rectangle method:\n",
      "n = 10 , Area = 0.9475992785537809\n",
      "n = 100 , Area = 0.8923470698543654\n",
      "n = 1000 , Area = 0.8868213254700711\n",
      "n = 10000 , Area = 0.8862687460306149\n",
      "n = 1000000 , Area = 0.8862079622372389\n",
      "By Trapezoid Rule:\n",
      "n = 10 , Area = 0.8862020336373999\n",
      "n = 100 , Area = 0.8862072927500882\n",
      "n = 1000 , Area = 0.8862069741142343\n",
      "n = 10000 , Area = 0.8862073111977041\n",
      "n = 1000000 , Area = 0.8862073482645872\n",
      "By Simpson's Rule:\n",
      "n = 10 , Area = 0.8862065522460074\n",
      "n = 100 , Area = 0.8862073481597856\n",
      "n = 1000 , Area = 0.8862065943201712\n",
      "n = 10000 , Area = 0.8862072740802331\n",
      "n = 1000000 , Area = 0.8862073482645902\n"
     ]
    }
   ],
   "source": [
    "print('By Rectangle method:')\n",
    "for i in N:\n",
    "    print('n =', i, ', Area =', integral(0, 3, i, method = 'Rectangle'))\n",
    "print('By Trapezoid Rule:')\n",
    "for j in N:\n",
    "    print('n =', j, ', Area =', integral(0, 3, j, method = 'Trapezoid'))\n",
    "print(\"By Simpson's Rule:\")\n",
    "for k in N:\n",
    "    print('n =', k, ', Area =', integral(0, 3, k, method = 'Simpson'))"
   ]
  },
  {
   "cell_type": "markdown",
   "metadata": {},
   "source": [
    "As we have seen with finding the areas under the three curves using all three methods, up to 4 digits to the right of the decimal, all the areas are equal, with the exception when n is less than or equal to 1000 with the Rectangle method. Both the Trapezoid and the Simpson's Rule give pretty accurate area without using more than 10 for the value of 'n'."
   ]
  }
 ],
 "metadata": {
  "kernelspec": {
   "display_name": "Python 3",
   "language": "python",
   "name": "python3"
  },
  "language_info": {
   "codemirror_mode": {
    "name": "ipython",
    "version": 3
   },
   "file_extension": ".py",
   "mimetype": "text/x-python",
   "name": "python",
   "nbconvert_exporter": "python",
   "pygments_lexer": "ipython3",
   "version": "3.7.3"
  }
 },
 "nbformat": 4,
 "nbformat_minor": 2
}
