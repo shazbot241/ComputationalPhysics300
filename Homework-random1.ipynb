{
 "cells": [
  {
   "cell_type": "markdown",
   "metadata": {},
   "source": [
    "# 15.5 Homework"
   ]
  },
  {
   "cell_type": "markdown",
   "metadata": {},
   "source": [
    "a) Write a program that generates and prints out two random numbers between 1 and 6, to simulate the rolling of two dice. "
   ]
  },
  {
   "cell_type": "markdown",
   "metadata": {},
   "source": [
    "b) Modify your program to simulate the rolling of two dice a million times (N0) and count the number of times you get double six (N1). Calculate the probability of finding double six in your simulations (N1/N0)."
   ]
  },
  {
   "cell_type": "markdown",
   "metadata": {},
   "source": [
    "c) Write a program to generate random integers within [-5, 5], find the magic series of {a, c, m} [Don't use the built-function in numpy]"
   ]
  },
  {
   "cell_type": "markdown",
   "metadata": {},
   "source": [
    "## Part a)"
   ]
  },
  {
   "cell_type": "code",
   "execution_count": 1,
   "metadata": {},
   "outputs": [
    {
     "name": "stdout",
     "output_type": "stream",
     "text": [
      "For set 1 of two random numbers between 1 and 6, the two numbers are:\n",
      "1\n",
      "5\n",
      "For set 2 of two random numbers between 1 and 6, the two numbers are:\n",
      "1\n",
      "6\n",
      "For set 3 of two random numbers between 1 and 6, the two numbers are:\n",
      "5\n",
      "1\n",
      "For set 4 of two random numbers between 1 and 6, the two numbers are:\n",
      "1\n",
      "1\n",
      "For set 5 of two random numbers between 1 and 6, the two numbers are:\n",
      "4\n",
      "3\n"
     ]
    }
   ],
   "source": [
    "import numpy as np\n",
    "import matplotlib.pyplot as plt\n",
    "%matplotlib inline\n",
    "for i in range(5):\n",
    "    print('For set', i + 1, 'of two random numbers between 1 and 6, the two numbers are:')\n",
    "    for j in range(2):\n",
    "        print(np.random.randint(1, 7))"
   ]
  },
  {
   "cell_type": "markdown",
   "metadata": {},
   "source": [
    "## Part b)"
   ]
  },
  {
   "cell_type": "code",
   "execution_count": 40,
   "metadata": {},
   "outputs": [
    {
     "name": "stdout",
     "output_type": "stream",
     "text": [
      "Probability(Double Six) = 0.138895\n"
     ]
    }
   ],
   "source": [
    "N0 = 1000000\n",
    "N1 = 0\n",
    "for i in range(N0):\n",
    "    x = np.random.randint(1, 7)\n",
    "    y = np.random.randint(1, 7)\n",
    "    if x + y == 6:\n",
    "        N1 += 1\n",
    "print('Probability(Double Six) =', N1/N0)"
   ]
  },
  {
   "cell_type": "markdown",
   "metadata": {},
   "source": [
    "So how do we know that this probability of getting a double six is reasonable? Well, this is actually a problem that I've encountered many times in all my Statistics course. What we can do  is define the sample space which contains all the possible combinations of numbers of the dice. We can call that sample space $ S $. "
   ]
  },
  {
   "cell_type": "code",
   "execution_count": 52,
   "metadata": {},
   "outputs": [
    {
     "name": "stdout",
     "output_type": "stream",
     "text": [
      "[[1, 1], [1, 2], [1, 3], [1, 4], [1, 5], [1, 6], [2, 1], [2, 2], [2, 3], [2, 4], [2, 5], [2, 6], [3, 1], [3, 2], [3, 3], [3, 4], [3, 5], [3, 6], [4, 1], [4, 2], [4, 3], [4, 4], [4, 5], [4, 6], [5, 1], [5, 2], [5, 3], [5, 4], [5, 5], [5, 6], [6, 1], [6, 2], [6, 3], [6, 4], [6, 5], [6, 6]]\n"
     ]
    }
   ],
   "source": [
    "S = []\n",
    "for i in range(6):\n",
    "    for j in range(6):\n",
    "        S.append([i + 1, j + 1])\n",
    "print(S)"
   ]
  },
  {
   "cell_type": "markdown",
   "metadata": {},
   "source": [
    "Now, I would like to extract all the sub-elements whose elements sum up to 6. "
   ]
  },
  {
   "cell_type": "code",
   "execution_count": 53,
   "metadata": {},
   "outputs": [
    {
     "name": "stdout",
     "output_type": "stream",
     "text": [
      "[1, 5]\n",
      "[2, 4]\n",
      "[3, 3]\n",
      "[4, 2]\n",
      "[5, 1]\n",
      "There are 5 subsets for which the sum of the number on the face of each die is equal to 6.\n"
     ]
    }
   ],
   "source": [
    "n_double_six = 0\n",
    "for i in range(len(S)):\n",
    "    if S[i][0] + S[i][1] == 6:\n",
    "        n_double_six += 1\n",
    "        print(S[i])\n",
    "print('There are', n_double_six, 'subsets for which the sum of the number on the face of each die is equal to 6.')"
   ]
  },
  {
   "cell_type": "markdown",
   "metadata": {},
   "source": [
    "I will take this number and divide it by the length of the sample space, which is 36, and that will be the theoretical probability of getting a double six."
   ]
  },
  {
   "cell_type": "code",
   "execution_count": 54,
   "metadata": {},
   "outputs": [
    {
     "name": "stdout",
     "output_type": "stream",
     "text": [
      "Probability_Theoretical(Double Six) = 0.1388888888888889\n"
     ]
    }
   ],
   "source": [
    "print('Probability_Theoretical(Double Six) =', n_double_six/len(S))"
   ]
  },
  {
   "cell_type": "markdown",
   "metadata": {},
   "source": [
    "So, we did a pretty nice job of randomizing earlier, because this value is roughly equal to what we got using random number generation."
   ]
  },
  {
   "cell_type": "markdown",
   "metadata": {},
   "source": [
    "## Part c)"
   ]
  },
  {
   "cell_type": "markdown",
   "metadata": {},
   "source": [
    "## Reference: "
   ]
  },
  {
   "cell_type": "markdown",
   "metadata": {},
   "source": [
    "$ x = (ax + c) mod $ $ m $"
   ]
  },
  {
   "cell_type": "markdown",
   "metadata": {},
   "source": [
    "Finding the proper {a, c, m} for which $ x $ will be within the interval $ [-5, 5] $ is going to be a challenge. "
   ]
  },
  {
   "cell_type": "code",
   "execution_count": 53,
   "metadata": {},
   "outputs": [
    {
     "name": "stdout",
     "output_type": "stream",
     "text": [
      "[4.5, -5.2, -0.408589, -0.29141100000000003, 1.5153750000000001, -2.2153750000000003, -0.165622, -0.534378, 1.467894, -2.167894, 0.0005300000000000304, -0.7005300000000001, 2.326101, -3.026101, -0.20076699999999997, -0.49923300000000004, 2.804943, -3.5049430000000004, 3.851159, -4.551159, 0.5122260000000001, -1.212226, -0.24659799999999998, -0.453402, 2.55621, -3.2562100000000003, 2.439383, -3.139383, 2.133177, -2.833177, 2.581814, -3.2818140000000002, 2.183193, -2.8831930000000003, 1.5509750000000002, -2.2509750000000004, 2.701104, -3.401104, -0.084457, -0.615543, 1.741146, -2.4411460000000003, 0.7471159999999999, -1.4471159999999998, 3.8732100000000003, -4.57321, 2.649422, -3.349422, 2.092563, -2.7925630000000004, 3.8849270000000002, -4.584927, 2.112327, -2.8123270000000002, 0.551723, -1.251723, -0.496119, -0.203881, 2.160755, -2.860755, 2.101998, -2.801998, 2.648903, -3.348903, 0.8139719999999999, -1.5139719999999999, 3.153485, -3.853485, 3.393693, -4.093693, 4.449041, -5.149041, 3.723, -4.423, 3.146309, -3.846309, 1.379883, -2.079883, 2.630492, -3.330492, 2.30697, -3.0069700000000004, 4.200545, -4.900545, 1.478904, -2.178904, 1.777571, -2.477571, 0.906399, -1.606399, 3.685868, -4.385868, 0.301161, -1.001161, 1.6883629999999998, -2.388363, 3.246432, -3.946432, 0.15896, -0.85896]\n"
     ]
    },
    {
     "data": {
      "image/png": "[encoded data removed]",
      "text/plain": [
       "<Figure size 432x288 with 1 Axes>"
      ]
     },
     "metadata": {
      "needs_background": "light"
     },
     "output_type": "display_data"
    }
   ],
   "source": [
    "m = 5000001\n",
    "a = 4954295\n",
    "c = 45705\n",
    "x = 1\n",
    "y = []\n",
    "j = 999\n",
    "for i in range(1000):\n",
    "    x = (a*x + c) % m\n",
    "    y.append(x/1000000 - .5)\n",
    "    y.append(-x/1000000 - .2)\n",
    "while(j > 0):\n",
    "    y.append(-y[j] - .8)\n",
    "    y.append(y[j] - .3)\n",
    "    j = j - 1\n",
    "print(y[0:100])\n",
    "plt.plot(y, 'o')\n",
    "plt.show()"
   ]
  },
  {
   "cell_type": "markdown",
   "metadata": {},
   "source": [
    "So for here, I tried to be as creative as I possibly could. The plot shows that the data is mostly random. I spent some time playing with modular arithmetic by hand and for me personally, an ideal $ {a, c, m} $ would be, in this case, $ {4954295, 45705, 5000001} $. Keep in mind that as I've shown in the program, we need to divide the resulting $ x $ by $ 1,000,000 $ right before we append it to $ y $, because $ -5,000,000 < x < 5,000,000 $ and dividing all sides of this inequality will make sure the numbers are between $ -5 $ and $ 5 $, inclusive. So, this is the best I could program my random number generator, but we all know that there are more and better ways."
   ]
  }
 ],
 "metadata": {
  "kernelspec": {
   "display_name": "Python 3",
   "language": "python",
   "name": "python3"
  },
  "language_info": {
   "codemirror_mode": {
    "name": "ipython",
    "version": 3
   },
   "file_extension": ".py",
   "mimetype": "text/x-python",
   "name": "python",
   "nbconvert_exporter": "python",
   "pygments_lexer": "ipython3",
   "version": "3.7.1"
  }
 },
 "nbformat": 4,
 "nbformat_minor": 2
}
