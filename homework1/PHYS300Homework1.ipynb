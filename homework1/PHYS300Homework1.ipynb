{
 "cells": [
  {
   "cell_type": "code",
   "execution_count": 2,
   "metadata": {},
   "outputs": [],
   "source": [
    "def factorial(n):                # Defining the factorial function\n",
    "    Product = 1\n",
    "    for i in range(1, n + 1, 1):\n",
    "        Product = Product*i\n",
    "    return Product"
   ]
  },
  {
   "cell_type": "code",
   "execution_count": 3,
   "metadata": {},
   "outputs": [],
   "source": [
    "def omega(N, q):                 # Defining the multiplicity function\n",
    "    value1 = factorial(q + N - 1)\n",
    "    value2 = factorial(q)\n",
    "    value3 = factorial(N - 1)\n",
    "    value = value1/(value2*value3)\n",
    "    return value"
   ]
  },
  {
   "cell_type": "code",
   "execution_count": null,
   "metadata": {},
   "outputs": [],
   "source": [
    "# The multiplicity function just means the number of ways or number of combinations we can choose \n",
    "# from \"q + N - 1\" q at a time. For example, let us make the following assumptions. \n",
    "# Let us say that \"q + N - 1 = 3\"\n",
    "# Let us also say that q = 2. If we can think of this problem to be the same of that as tossing\n",
    "# 4 coins at the same time and we are observing the total number of ways that q = 2(2 Heads) occur,\n",
    "# this may look something like this:\n",
    "\n",
    "# {qqq, qqq', qq'q, qq'q', q'qq, q'qq', q'q'q, q'q'q'} where q' means \"not q\".\n",
    "# This set shows all the possible ways that two 'q' out of three will appear. \n",
    "# Again, the approach to this problem is similar to tossing multiple coins at once and observing\n",
    "# the total number of heads or tails that you desire."
   ]
  },
  {
   "cell_type": "code",
   "execution_count": 4,
   "metadata": {},
   "outputs": [
    {
     "name": "stdout",
     "output_type": "stream",
     "text": [
      "Enter a value for N: 8\n",
      "Enter a value for q: 4\n",
      "The multiplicity is equal to 330.0\n"
     ]
    }
   ],
   "source": [
    "# Now let's have a user input values for N and q:\n",
    "N = int(input('Enter a value for N: '))\n",
    "q = int(input('Enter a value for q: '))\n",
    "print(\"The multiplicity is equal to\", omega(N, q))"
   ]
  }
 ],
 "metadata": {
  "kernelspec": {
   "display_name": "Python 3",
   "language": "python",
   "name": "python3"
  },
  "language_info": {
   "codemirror_mode": {
    "name": "ipython",
    "version": 3
   },
   "file_extension": ".py",
   "mimetype": "text/x-python",
   "name": "python",
   "nbconvert_exporter": "python",
   "pygments_lexer": "ipython3",
   "version": "3.7.3"
  }
 },
 "nbformat": 4,
 "nbformat_minor": 2
}
