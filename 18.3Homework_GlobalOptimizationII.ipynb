{
 "cells": [
  {
   "cell_type": "markdown",
   "metadata": {},
   "source": [
    "Write a function to compute the analytical gradient of total energy."
   ]
  },
  {
   "cell_type": "markdown",
   "metadata": {},
   "source": [
    "Recall the following two functions:"
   ]
  },
  {
   "cell_type": "markdown",
   "metadata": {},
   "source": [
    "## Gradient Descent"
   ]
  },
  {
   "cell_type": "markdown",
   "metadata": {},
   "source": [
    "$ x_{n + 1} = x_n - \\gamma f(x_n) $"
   ]
  },
  {
   "cell_type": "markdown",
   "metadata": {},
   "source": [
    "## Lennard-Jones Potential"
   ]
  },
  {
   "cell_type": "markdown",
   "metadata": {},
   "source": [
    "$ V = 4\\epsilon[(\\frac{\\sigma}{r})^{12} - (\\frac{\\sigma}{r})^6] $"
   ]
  },
  {
   "cell_type": "markdown",
   "metadata": {},
   "source": [
    "Except, we are not really using the Gradient Descent rule since we are solving the problem analytically. If we differentiate $ V $ with respect to $ r $ and apply the first derivative test, we find that the value of $ r $ that minimizes $ V $ is $ r_{min} = (2\\sigma^6)^{1/6} $. This means that any combination of $ (x_1, y_1), (x_2, y_2) $ that equals $ r_{min} = (2\\sigma^6)^{1/6} $ will produce the smallest value of $ V $. Recall the distance formula:"
   ]
  },
  {
   "cell_type": "markdown",
   "metadata": {},
   "source": [
    "## $ D = \\sqrt{(x_2 - x_1)^2 + (y_2 - y_1)^2} $"
   ]
  },
  {
   "cell_type": "markdown",
   "metadata": {},
   "source": [
    "Setting $ D $ equal to the value of $ r $ that we found for which $ V $ is a minimum, we get the following:"
   ]
  },
  {
   "cell_type": "markdown",
   "metadata": {},
   "source": [
    "## $ (x_2 - x_1)^2 + (y_2 - y_1)^2 = (2\\sigma^2)^{1/3} = 2^{1/3}\\sigma^{2/3} $"
   ]
  },
  {
   "cell_type": "markdown",
   "metadata": {},
   "source": [
    "If we hold the position $ (x_1, y_1) $ constant, we can think of this equation as a circle with radius $ R = \\sqrt{2^{1/3}\\sigma^{2/3}} $ with center $ (x_1, y_1) $. Since we have held the position of the first atom constant, $ (x_1, y_1) $, we can rearrange the above equation and express $ y_2 $ as a function of $ x_2 $. By doing so, we end up with the following equation:"
   ]
  },
  {
   "cell_type": "markdown",
   "metadata": {},
   "source": [
    "## $ y_2 = y_1 \\pm \\sqrt{2^{1/3}\\sigma^{2/3} - (x_2 - x_1)^2 } $"
   ]
  },
  {
   "cell_type": "markdown",
   "metadata": {},
   "source": [
    "Where $ x_1 $ and $ y_1 $ are assumed to be known, $ x_2 $ is the independent variable, and $ y_2 $ is the dependent variable having two distinct values provided that $ (x_2 - x_1)^2 \\leq 2^{1/3}\\sigma^{2/3} $."
   ]
  },
  {
   "cell_type": "code",
   "execution_count": 3,
   "metadata": {},
   "outputs": [],
   "source": [
    "def y2(x1, x2, y1, sigma):\n",
    "    radicand = (2**(1/3)*sigma**(2/3) - (x2 - x1)**2)**(1/2)\n",
    "    value1 = y1 - radicand\n",
    "    value2 = y1 + radicand\n",
    "    print('If the first atom is at', (x1, y1), 'then for a minimum LJ Potential, the second atom must be located at')\n",
    "    print((x2, value1), 'or at', (x2, value2))\n",
    "    return None"
   ]
  },
  {
   "cell_type": "markdown",
   "metadata": {},
   "source": [
    "Let's have fun and create a simple problem. Suppose that we predetermine $ (x_1, y_1) $ to be $ (1, 5) $. Suppose also that we want a second atom to be located at an x-coordinate of $ 3 $. That is, $ x_2 = 3 $. Finally, suppose that $ \\sigma = 2 $. What will be the possible coordinates(tuples) for the second atom, so that we get a minimum value for the LJ Potential($ V $)?"
   ]
  },
  {
   "cell_type": "markdown",
   "metadata": {},
   "source": [
    "We just plug-in the given values then we will get the required locations so $ V $ is a minimum."
   ]
  },
  {
   "cell_type": "code",
   "execution_count": 4,
   "metadata": {},
   "outputs": [
    {
     "name": "stdout",
     "output_type": "stream",
     "text": [
      "If the first atom is at (1, 5) then for a minimum LJ Potential, the second atom must be located at\n",
      "(3, (5-1.4142135623730951j)) or at (3, (5+1.4142135623730951j))\n",
      "None\n"
     ]
    }
   ],
   "source": [
    "x1 = 1\n",
    "y1 = 5\n",
    "x2 = 3\n",
    "sigma = 2\n",
    "positions = y2(x1, x2, y1, sigma)\n",
    "print(positions)"
   ]
  },
  {
   "cell_type": "markdown",
   "metadata": {},
   "source": [
    "It produced complex numbers possibly because the discriminant was less than zero. Other than this, the formula should always work if we are trying to find the locations of two paired atoms that will generate minimum value for the LJ Potential."
   ]
  }
 ],
 "metadata": {
  "kernelspec": {
   "display_name": "Python 3",
   "language": "python",
   "name": "python3"
  },
  "language_info": {
   "codemirror_mode": {
    "name": "ipython",
    "version": 3
   },
   "file_extension": ".py",
   "mimetype": "text/x-python",
   "name": "python",
   "nbconvert_exporter": "python",
   "pygments_lexer": "ipython3",
   "version": "3.7.1"
  }
 },
 "nbformat": 4,
 "nbformat_minor": 2
}
