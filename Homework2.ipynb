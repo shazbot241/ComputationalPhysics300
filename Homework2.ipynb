{
 "cells": [
  {
   "cell_type": "code",
   "execution_count": 1,
   "metadata": {},
   "outputs": [],
   "source": [
    "def factorial(n):\n",
    "    prod = 1\n",
    "    for i in range(1, n + 1, 1):\n",
    "        prod = prod*i\n",
    "    return prod"
   ]
  },
  {
   "cell_type": "code",
   "execution_count": 2,
   "metadata": {},
   "outputs": [],
   "source": [
    "def choose(n, r):\n",
    "    value1 = factorial(n)\n",
    "    value2 = factorial(r)\n",
    "    value3 = factorial(n - r)\n",
    "    value = value1/(value2*value3)\n",
    "    return value"
   ]
  },
  {
   "cell_type": "code",
   "execution_count": 16,
   "metadata": {},
   "outputs": [],
   "source": [
    "def omega(N, q):\n",
    "    return choose(q + N - 1, q)"
   ]
  },
  {
   "cell_type": "code",
   "execution_count": 18,
   "metadata": {},
   "outputs": [],
   "source": [
    "def omegaTotal(Na, Nb, qa, qtotal):\n",
    "    qb = qtotal - qa\n",
    "    u1 = qa + Na - 1\n",
    "    u2 = qb + Nb - 1\n",
    "    value1 = choose(u1, qa)\n",
    "    value2 = choose(u2, qb)\n",
    "    value = value1*value2\n",
    "    return value"
   ]
  },
  {
   "cell_type": "markdown",
   "metadata": {},
   "source": [
    "Now, 'qa' cannot exceed 'qa + Na - 1'. Similarly, 'qb' cannot exceed 'qb + Nb - 1', because this is the nature of the 'choose' function. Let us print some numbers out."
   ]
  },
  {
   "cell_type": "code",
   "execution_count": 27,
   "metadata": {},
   "outputs": [
    {
     "name": "stdout",
     "output_type": "stream",
     "text": [
      "When Na = 300 ; Nb = 200 ; q = 100 :\n",
      "When q(A) = 0 :\n",
      "O(A) = 1.0\n",
      "q(B) = 100\n",
      "O(B) = 2.7721676421723763e+81\n",
      "O(Total) 2.7721676421723763e+81\n",
      ".............................................................................\n",
      "When q(A) = 1 :\n",
      "O(A) = 300.0\n",
      "q(B) = 99\n",
      "O(B) = 9.271463686195239e+80\n",
      "O(Total) 2.7814391058585717e+83\n",
      ".............................................................................\n",
      "When q(A) = 2 :\n",
      "O(A) = 45150.0\n",
      "q(B) = 98\n",
      "O(B) = 3.080117130648754e+80\n",
      "O(Total) 1.3906728844879124e+85\n",
      ".............................................................................\n",
      "When q(A) = 3 :\n",
      "O(A) = 4545100.0\n",
      "q(B) = 97\n",
      "O(B) = 1.0163349454665923e+80\n",
      "O(Total) 4.6193439606402085e+86\n",
      ".............................................................................\n",
      "When q(A) = 4 :\n",
      "O(A) = 344291325.0\n",
      "q(B) = 96\n",
      "O(B) = 3.330557084806062e+79\n",
      "O(Total) 1.1466819117160164e+88\n",
      ".............................................................................\n",
      "When q(A) = 5 :\n",
      "O(A) = 20932912560.0\n",
      "q(B) = 95\n",
      "O(B) = 1.0838423055640068e+79\n",
      "O(Total) 2.2687976211200156e+89\n",
      ".............................................................................\n",
      "When q(A) = 6 :\n",
      "O(A) = 1064089721800.0\n",
      "q(B) = 94\n",
      "O(B) = 3.5022115315843755e+78\n",
      "O(Total) 3.72666729432837e+90\n",
      ".............................................................................\n",
      "When q(A) = 7 :\n",
      "O(A) = 46515922124400.0\n",
      "q(B) = 93\n",
      "O(B) = 1.1235763957984004e+78\n",
      "O(Total) 5.226419212777242e+91\n",
      ".............................................................................\n",
      "When q(A) = 8 :\n",
      "O(A) = 1785048511523850.0\n",
      "q(B) = 92\n",
      "O(B) = 3.5785138633305217e+77\n",
      "O(Total) 6.38782084520561e+92\n",
      ".............................................................................\n",
      "When q(A) = 9 :\n",
      "O(A) = 6.10883268388162e+16\n",
      "q(B) = 91\n",
      "O(B) = 1.1313514619464192e+77\n",
      "O(Total) 6.911236787695539e+93\n",
      ".............................................................................\n",
      "When q(A) = 10 :\n",
      "O(A) = 1.8876292993194207e+18\n",
      "q(B) = 90\n",
      "O(B) = 3.5501028633491086e+76\n",
      "O(Total) 6.701278180455547e+94\n",
      ".............................................................................\n"
     ]
    }
   ],
   "source": [
    "na, nb, Qtotal = 300, 200, 100\n",
    "print('When Na =', na, '; Nb =', nb, '; q =', Qtotal, ':')\n",
    "for Qa in range(11):\n",
    "    Qb = Qtotal - Qa\n",
    "    print('When q(A) =', Qa, ':')\n",
    "    print('O(A) =', omega(na, Qa))\n",
    "    print('q(B) =', Qb)\n",
    "    print('O(B) =', omega(nb, Qb))\n",
    "    print('O(Total)', omegaTotal(na, nb, Qa, Qtotal))\n",
    "    print('.............................................................................')"
   ]
  },
  {
   "cell_type": "markdown",
   "metadata": {},
   "source": [
    "As we've seen, the numbers get really big as we increment 'q(A)' by 1 each time. We could do this until 'q(A) + q(B) = 100', but our screen will be really messy.\n",
    "\n",
    "Now let us seen if we can plot 'qa' against 'omega'."
   ]
  },
  {
   "cell_type": "code",
   "execution_count": 33,
   "metadata": {},
   "outputs": [
    {
     "data": {
      "text/plain": [
       "<matplotlib.legend.Legend at 0x1ecfbe7add8>"
      ]
     },
     "execution_count": 33,
     "metadata": {},
     "output_type": "execute_result"
    },
    {
     "data": {
      "image/png": "[encoded data removed]",
      "text/plain": [
       "<Figure size 432x288 with 1 Axes>"
      ]
     },
     "metadata": {
      "needs_background": "light"
     },
     "output_type": "display_data"
    }
   ],
   "source": [
    "QA = [i for i in range(101)]\n",
    "QB = [(100 - j) for j in QA]\n",
    "OMEGA_A = [omega(300, k) for k in QA]\n",
    "OMEGA_B = [omega(200, v) for v in QB]\n",
    "import matplotlib.pyplot as plt\n",
    "%matplotlib inline\n",
    "plt.plot(QA, OMEGA_A, 'ro', QB, OMEGA_B, 'm--')\n",
    "plt.xlabel('q')\n",
    "plt.ylabel('omega')\n",
    "plt.legend(['qa', 'qb'])"
   ]
  },
  {
   "cell_type": "markdown",
   "metadata": {},
   "source": [
    "From the graph, we can tell that 'qa' and 'qb' overlap from 0 <= q < 100, but when we get to q = 100, we see like three values of the corresponding OMEGA_A that are slightly higher than others."
   ]
  }
 ],
 "metadata": {
  "kernelspec": {
   "display_name": "Python 3",
   "language": "python",
   "name": "python3"
  },
  "language_info": {
   "codemirror_mode": {
    "name": "ipython",
    "version": 3
   },
   "file_extension": ".py",
   "mimetype": "text/x-python",
   "name": "python",
   "nbconvert_exporter": "python",
   "pygments_lexer": "ipython3",
   "version": "3.7.3"
  }
 },
 "nbformat": 4,
 "nbformat_minor": 2
}
