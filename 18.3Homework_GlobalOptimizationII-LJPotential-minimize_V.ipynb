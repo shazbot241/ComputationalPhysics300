{
 "cells": [
  {
   "cell_type": "markdown",
   "metadata": {},
   "source": [
    "Write a function to compute the analytical gradient of total energy."
   ]
  },
  {
   "cell_type": "markdown",
   "metadata": {},
   "source": [
    "Recall the following two functions:"
   ]
  },
  {
   "cell_type": "markdown",
   "metadata": {},
   "source": [
    "## Gradient Descent"
   ]
  },
  {
   "cell_type": "markdown",
   "metadata": {},
   "source": [
    "$ x_{n + 1} = x_n - \\gamma f(x_n) $"
   ]
  },
  {
   "cell_type": "markdown",
   "metadata": {},
   "source": [
    "## Lennard-Jones Potential"
   ]
  },
  {
   "cell_type": "markdown",
   "metadata": {},
   "source": [
    "$ V = 4\\epsilon[(\\frac{\\sigma}{r})^{12} - (\\frac{\\sigma}{r})^6] $"
   ]
  },
  {
   "cell_type": "markdown",
   "metadata": {},
   "source": [
    "Except, we are not really using the Gradient Descent rule since we are solving the problem analytically. If we differentiate $ V $ with respect to $ r $ and apply the first derivative test, we find that the value of $ r $ that minimizes $ V $ is $ r_{min} = (2\\sigma^6)^{1/6} $. This means that any combination of $ (x_1, y_1), (x_2, y_2) $ that equals $ r_{min} = (2\\sigma^6)^{1/6} $ will produce the smallest value of $ V $. Recall the distance formula:"
   ]
  },
  {
   "cell_type": "markdown",
   "metadata": {},
   "source": [
    "## $ D = \\sqrt{(x_2 - x_1)^2 + (y_2 - y_1)^2} $"
   ]
  },
  {
   "cell_type": "markdown",
   "metadata": {},
   "source": [
    "Setting $ D $ equal to the value of $ r $ that we found for which $ V $ is a minimum, we get the following:"
   ]
  },
  {
   "cell_type": "markdown",
   "metadata": {},
   "source": [
    "## $ (x_2 - x_1)^2 + (y_2 - y_1)^2 = (2\\sigma^2)^{1/3} = 2^{1/3}\\sigma^{2/3} $"
   ]
  },
  {
   "cell_type": "markdown",
   "metadata": {},
   "source": [
    "If we hold the position $ (x_1, y_1) $ constant, we can think of this equation as a circle with radius $ R = \\sqrt{2^{1/3}\\sigma^{2/3}} $ with center $ (x_1, y_1) $. Since we have held the position of the first atom constant, $ (x_1, y_1) $, we can rearrange the above equation and express $ y_2 $ as a function of $ x_2 $. By doing so, we end up with the following equation:"
   ]
  },
  {
   "cell_type": "markdown",
   "metadata": {},
   "source": [
    "## $ y_2 = y_1 \\pm \\sqrt{2^{1/3}\\sigma^{2/3} - (x_2 - x_1)^2 } $"
   ]
  },
  {
   "cell_type": "markdown",
   "metadata": {},
   "source": [
    "Where $ x_1 $ and $ y_1 $ are assumed to be known, $ x_2 $ is the independent variable, and $ y_2 $ is the dependent variable having two distinct values provided that $ (x_2 - x_1)^2 \\leq 2^{1/3}\\sigma^{2/3} $."
   ]
  },
  {
   "cell_type": "code",
   "execution_count": 1,
   "metadata": {},
   "outputs": [],
   "source": [
    "def y2(x1, x2, y1, sigma):\n",
    "    radicand = (2**(1/3)*sigma**(2/3) - (x2 - x1)**2)**(1/2)\n",
    "    value1 = y1 - radicand\n",
    "    value2 = y1 + radicand\n",
    "    print('If the first atom is at', (x1, y1), 'then for a minimum LJ Potential, the second atom must be located at')\n",
    "    print((x2, value1), 'or at', (x2, value2))\n",
    "    return None"
   ]
  },
  {
   "cell_type": "markdown",
   "metadata": {},
   "source": [
    "Let's have fun and create a simple problem. Suppose that we predetermine $ (x_1, y_1) $ to be $ (1, 5) $. Suppose also that we want a second atom to be located at an x-coordinate of $ 3 $. That is, $ x_2 = 3 $. Finally, suppose that $ \\sigma = 2 $. What will be the possible coordinates(tuples) for the second atom, so that we get a minimum value for the LJ Potential($ V $)?"
   ]
  },
  {
   "cell_type": "markdown",
   "metadata": {},
   "source": [
    "We just plug-in the given values then we will get the required locations so $ V $ is a minimum."
   ]
  },
  {
   "cell_type": "code",
   "execution_count": 2,
   "metadata": {},
   "outputs": [
    {
     "name": "stdout",
     "output_type": "stream",
     "text": [
      "If the first atom is at (1, 5) then for a minimum LJ Potential, the second atom must be located at\n",
      "(3, (5-1.4142135623730951j)) or at (3, (5+1.4142135623730951j))\n",
      "None\n"
     ]
    }
   ],
   "source": [
    "x1 = 1\n",
    "y1 = 5\n",
    "x2 = 3\n",
    "sigma = 2\n",
    "positions = y2(x1, x2, y1, sigma)\n",
    "print(positions)"
   ]
  },
  {
   "cell_type": "markdown",
   "metadata": {},
   "source": [
    "It produced complex numbers possibly because the value inside the radicand was less than zero. Other than this, the formula should always work if we are trying to find the locations of two paired atoms that will generate minimum value for the LJ Potential. Let us try another example but this time, let us print out some minimum LJ potential values for $ 20 $ values of $ x_2 $."
   ]
  },
  {
   "cell_type": "code",
   "execution_count": 3,
   "metadata": {},
   "outputs": [
    {
     "name": "stdout",
     "output_type": "stream",
     "text": [
      "If the first atom is at (1, 5) then for a minimum LJ Potential, the second atom must be located at\n",
      "(0, 4.0) or at (0, 6.0)\n",
      "None\n",
      "**************************************************************************************************************\n",
      "If the first atom is at (1, 5) then for a minimum LJ Potential, the second atom must be located at\n",
      "(1, 3.585786437626905) or at (1, 6.414213562373095)\n",
      "None\n",
      "**************************************************************************************************************\n",
      "If the first atom is at (1, 5) then for a minimum LJ Potential, the second atom must be located at\n",
      "(2, 4.0) or at (2, 6.0)\n",
      "None\n",
      "**************************************************************************************************************\n",
      "If the first atom is at (1, 5) then for a minimum LJ Potential, the second atom must be located at\n",
      "(3, (5-1.4142135623730951j)) or at (3, (5+1.4142135623730951j))\n",
      "None\n",
      "**************************************************************************************************************\n",
      "If the first atom is at (1, 5) then for a minimum LJ Potential, the second atom must be located at\n",
      "(4, (5-2.6457513110645907j)) or at (4, (5+2.6457513110645907j))\n",
      "None\n",
      "**************************************************************************************************************\n",
      "If the first atom is at (1, 5) then for a minimum LJ Potential, the second atom must be located at\n",
      "(5, (5-3.7416573867739413j)) or at (5, (5+3.7416573867739413j))\n",
      "None\n",
      "**************************************************************************************************************\n",
      "If the first atom is at (1, 5) then for a minimum LJ Potential, the second atom must be located at\n",
      "(6, (5-4.795831523312719j)) or at (6, (5+4.795831523312719j))\n",
      "None\n",
      "**************************************************************************************************************\n",
      "If the first atom is at (1, 5) then for a minimum LJ Potential, the second atom must be located at\n",
      "(7, (5-5.830951894845301j)) or at (7, (5+5.830951894845301j))\n",
      "None\n",
      "**************************************************************************************************************\n",
      "If the first atom is at (1, 5) then for a minimum LJ Potential, the second atom must be located at\n",
      "(8, (5-6.855654600401044j)) or at (8, (5+6.855654600401044j))\n",
      "None\n",
      "**************************************************************************************************************\n",
      "If the first atom is at (1, 5) then for a minimum LJ Potential, the second atom must be located at\n",
      "(9, (4.999999999999999-7.874007874011811j)) or at (9, (5.000000000000001+7.874007874011811j))\n",
      "None\n",
      "**************************************************************************************************************\n",
      "If the first atom is at (1, 5) then for a minimum LJ Potential, the second atom must be located at\n",
      "(10, (4.999999999999999-8.888194417315589j)) or at (10, (5.000000000000001+8.888194417315589j))\n",
      "None\n",
      "**************************************************************************************************************\n",
      "If the first atom is at (1, 5) then for a minimum LJ Potential, the second atom must be located at\n",
      "(11, (4.999999999999999-9.899494936611665j)) or at (11, (5.000000000000001+9.899494936611665j))\n",
      "None\n",
      "**************************************************************************************************************\n",
      "If the first atom is at (1, 5) then for a minimum LJ Potential, the second atom must be located at\n",
      "(12, (4.999999999999999-10.908712114635714j)) or at (12, (5.000000000000001+10.908712114635714j))\n",
      "None\n",
      "**************************************************************************************************************\n",
      "If the first atom is at (1, 5) then for a minimum LJ Potential, the second atom must be located at\n",
      "(13, (4.999999999999999-11.916375287812984j)) or at (13, (5.000000000000001+11.916375287812984j))\n",
      "None\n",
      "**************************************************************************************************************\n",
      "If the first atom is at (1, 5) then for a minimum LJ Potential, the second atom must be located at\n",
      "(14, (4.999999999999999-12.922847983320086j)) or at (14, (5.000000000000001+12.922847983320086j))\n",
      "None\n",
      "**************************************************************************************************************\n",
      "If the first atom is at (1, 5) then for a minimum LJ Potential, the second atom must be located at\n",
      "(15, (4.999999999999999-13.92838827718412j)) or at (15, (5.000000000000001+13.92838827718412j))\n",
      "None\n",
      "**************************************************************************************************************\n",
      "If the first atom is at (1, 5) then for a minimum LJ Potential, the second atom must be located at\n",
      "(16, (4.999999999999999-14.933184523068078j)) or at (16, (5.000000000000001+14.933184523068078j))\n",
      "None\n",
      "**************************************************************************************************************\n",
      "If the first atom is at (1, 5) then for a minimum LJ Potential, the second atom must be located at\n",
      "(17, (4.999999999999999-15.937377450509228j)) or at (17, (5.000000000000001+15.937377450509228j))\n",
      "None\n",
      "**************************************************************************************************************\n",
      "If the first atom is at (1, 5) then for a minimum LJ Potential, the second atom must be located at\n",
      "(18, (4.999999999999999-16.941074346097416j)) or at (18, (5.000000000000001+16.941074346097416j))\n",
      "None\n",
      "**************************************************************************************************************\n",
      "If the first atom is at (1, 5) then for a minimum LJ Potential, the second atom must be located at\n",
      "(19, (4.999999999999999-17.944358444926362j)) or at (19, (5.000000000000001+17.944358444926362j))\n",
      "None\n",
      "**************************************************************************************************************\n"
     ]
    }
   ],
   "source": [
    "for x2 in range(20):\n",
    "    print(y2(1, x2, 5, 2))\n",
    "    print('**************************************************************************************************************')"
   ]
  },
  {
   "cell_type": "markdown",
   "metadata": {},
   "source": [
    "As we can see, the minimum LJ potential value is only non-complex for $ 0 \\leq x_2 \\leq 2 $ for all $ x_2 $ in range $ 0 \\leq x_2 \\leq 19 $. The complex values are not necessarily bad - it just means that the inside of the radical is less than zero. This is one way we can analytically minimize $ V $, but there are other ways."
   ]
  }
 ],
 "metadata": {
  "kernelspec": {
   "display_name": "Python 3",
   "language": "python",
   "name": "python3"
  },
  "language_info": {
   "codemirror_mode": {
    "name": "ipython",
    "version": 3
   },
   "file_extension": ".py",
   "mimetype": "text/x-python",
   "name": "python",
   "nbconvert_exporter": "python",
   "pygments_lexer": "ipython3",
   "version": "3.7.1"
  }
 },
 "nbformat": 4,
 "nbformat_minor": 2
}
