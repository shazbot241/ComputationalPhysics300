{
 "cells": [
  {
   "cell_type": "markdown",
   "metadata": {},
   "source": [
    "Write a program to find the minimum of"
   ]
  },
  {
   "cell_type": "markdown",
   "metadata": {},
   "source": [
    "$ f(x, y) = x^2/2 + y^2/3 -xy/4 $"
   ]
  },
  {
   "cell_type": "markdown",
   "metadata": {},
   "source": [
    "1, from your own code (except Monte Carlo)"
   ]
  },
  {
   "cell_type": "markdown",
   "metadata": {},
   "source": [
    "2, from scipy"
   ]
  },
  {
   "cell_type": "markdown",
   "metadata": {},
   "source": [
    "# Part 1"
   ]
  },
  {
   "cell_type": "markdown",
   "metadata": {},
   "source": [
    "In Calculus III, we learned for the first time to work with multivariable functions. Also, it was the first course where we learned how to optimize functions using partial derivatives. While most multivariable functions in Calculus III could be optimized analytically, there are still many that cannot be done by hand alone and therefore, requires the use of computers. Let us first define our function of interest before we go any further. Let me also define the derivative function for a single function because we might also need it later."
   ]
  },
  {
   "cell_type": "code",
   "execution_count": 33,
   "metadata": {},
   "outputs": [],
   "source": [
    "import numpy as np\n",
    "from scipy.optimize import minimize as Min\n",
    "import matplotlib.pyplot as plt\n",
    "%matplotlib inline\n",
    "\n",
    "def f(x, y):\n",
    "    return (1/2)*x**2 + (1/3)*y**2 - x*y/4\n",
    "\n",
    "def derivative(f, x):\n",
    "    h = 0.00000001\n",
    "    numerator = f(x + h) - f(x)\n",
    "    return numerator/h\n",
    "\n",
    "def minimize(f, x0, step):\n",
    "    x_now = x0\n",
    "    x_next = x_now - step\n",
    "    while derivative(f, x_next) > 0:\n",
    "        x_now = x_next\n",
    "        x_next = x_now - step\n",
    "        if derivative(f, x_next) < 0:\n",
    "            x_now = x_next + step\n",
    "            x_next = x_now - 0.00001\n",
    "            while f(x_next) < f(x_now):\n",
    "                x_now = x_next\n",
    "                x_next = x_now - 0.00001\n",
    "    return x_now\n",
    "\n",
    "def init(x_min, x_max, y_min, y_max):\n",
    "    x0 = x_min+np.random.random()*(x_max-x_min)\n",
    "    y0 = y_min+np.random.random()*(y_max-y_min)\n",
    "    return [x0, y0]"
   ]
  },
  {
   "cell_type": "markdown",
   "metadata": {},
   "source": [
    "Let us consider the following:"
   ]
  },
  {
   "cell_type": "markdown",
   "metadata": {},
   "source": [
    "# $ A = f_{xx}(x_0, y_0) $ is the second partial derivative with respect to both $ x $."
   ]
  },
  {
   "cell_type": "markdown",
   "metadata": {},
   "source": [
    "# $ B = f_{xy}(x_0, y_0) $ is the partial derivative with respect to $ x $ and then $ y $. "
   ]
  },
  {
   "cell_type": "markdown",
   "metadata": {},
   "source": [
    "# $ C = f_{yy}(x_0, y_0) $ is the second partial derivative with respect to both $ y $."
   ]
  },
  {
   "cell_type": "markdown",
   "metadata": {},
   "source": [
    "The rules are as follows:"
   ]
  },
  {
   "cell_type": "markdown",
   "metadata": {},
   "source": [
    "* If $ AC - B^2 > 0 $ and $ A > 0 $, then $ f $ has a local minimum at $ (x_0, y_0) $."
   ]
  },
  {
   "cell_type": "markdown",
   "metadata": {},
   "source": [
    "* If $ AC - B^2  >0 $ and $ A < 0 $, then $ f $ has a local maximum at $ (x_0, y_0) $."
   ]
  },
  {
   "cell_type": "markdown",
   "metadata": {},
   "source": [
    "But I am not going to do it this way, because it is not scientific computing. Instead, I will do what I did in the previous homework, which is to break the whole function into smaller parts and find the minimum for those individually."
   ]
  },
  {
   "cell_type": "code",
   "execution_count": 16,
   "metadata": {},
   "outputs": [],
   "source": [
    "def f1(x):\n",
    "    return (1/2)*x**2\n",
    "def g(y):\n",
    "    return (1/3)*y**2"
   ]
  },
  {
   "cell_type": "markdown",
   "metadata": {},
   "source": [
    "# Minimize $ f(x) $:"
   ]
  },
  {
   "cell_type": "code",
   "execution_count": 17,
   "metadata": {},
   "outputs": [
    {
     "data": {
      "image/png": "[encoded data removed]",
      "text/plain": [
       "<Figure size 432x288 with 1 Axes>"
      ]
     },
     "metadata": {
      "needs_background": "light"
     },
     "output_type": "display_data"
    }
   ],
   "source": [
    "x1 = np.linspace(-1, 1, 10000)\n",
    "y1 = f1(x1)\n",
    "plt.plot(x1, y1, label = '$ f(x) $')\n",
    "plt.legend()\n",
    "plt.show()"
   ]
  },
  {
   "cell_type": "markdown",
   "metadata": {},
   "source": [
    "An initial guess would be any value of x to the right of the minimum. I would pick $ x = 1 $."
   ]
  },
  {
   "cell_type": "code",
   "execution_count": 18,
   "metadata": {},
   "outputs": [
    {
     "name": "stdout",
     "output_type": "stream",
     "text": [
      "0\n"
     ]
    }
   ],
   "source": [
    "x_best = minimize(f1, 1, 1)\n",
    "print(x_best)"
   ]
  },
  {
   "cell_type": "markdown",
   "metadata": {},
   "source": [
    "# Minimize $ g(y) $:"
   ]
  },
  {
   "cell_type": "code",
   "execution_count": 11,
   "metadata": {},
   "outputs": [
    {
     "data": {
      "image/png": "[encoded data removed]",
      "text/plain": [
       "<Figure size 432x288 with 1 Axes>"
      ]
     },
     "metadata": {
      "needs_background": "light"
     },
     "output_type": "display_data"
    }
   ],
   "source": [
    "x2 = x1\n",
    "y2 = g(x2)\n",
    "plt.plot(x2, y2, 'r', label = '$ g(y) $')\n",
    "plt.legend()\n",
    "plt.show()"
   ]
  },
  {
   "cell_type": "markdown",
   "metadata": {},
   "source": [
    "The same as before!!! We just pick any x value to the right of the lowest point. I would pick $ x = 1 $."
   ]
  },
  {
   "cell_type": "code",
   "execution_count": 19,
   "metadata": {},
   "outputs": [
    {
     "name": "stdout",
     "output_type": "stream",
     "text": [
      "0\n"
     ]
    }
   ],
   "source": [
    "y_best = minimize(g, 1, 1)\n",
    "print(y_best)"
   ]
  },
  {
   "cell_type": "markdown",
   "metadata": {},
   "source": [
    "This means that $ x_0 = 0$ and $ y_0 = 0 $. So the minimum must be at $ (0, 0, f(0, 0)) = (0, 0, 0) $."
   ]
  },
  {
   "cell_type": "code",
   "execution_count": 20,
   "metadata": {},
   "outputs": [
    {
     "data": {
      "text/plain": [
       "0.0"
      ]
     },
     "execution_count": 20,
     "metadata": {},
     "output_type": "execute_result"
    }
   ],
   "source": [
    "f(x_best, y_best)"
   ]
  },
  {
   "cell_type": "markdown",
   "metadata": {},
   "source": [
    "# Part 2"
   ]
  },
  {
   "cell_type": "markdown",
   "metadata": {},
   "source": [
    "We will do the same thing we did previously, except we are using a built-in function from scipy and comparing what we get using that to what we got using our own method."
   ]
  },
  {
   "cell_type": "code",
   "execution_count": 36,
   "metadata": {},
   "outputs": [
    {
     "data": {
      "text/plain": [
       "      fun: 2.7755575615628914e-17\n",
       " hess_inv: array([[1]])\n",
       "      jac: array([0.])\n",
       "  message: 'Optimization terminated successfully.'\n",
       "     nfev: 6\n",
       "      nit: 1\n",
       "     njev: 2\n",
       "   status: 0\n",
       "  success: True\n",
       "        x: array([-7.4505806e-09])"
      ]
     },
     "execution_count": 36,
     "metadata": {},
     "output_type": "execute_result"
    }
   ],
   "source": [
    "Min(f1, 1) "
   ]
  },
  {
   "cell_type": "code",
   "execution_count": 37,
   "metadata": {},
   "outputs": [
    {
     "data": {
      "text/plain": [
       "      fun: 1.850371707708594e-17\n",
       " hess_inv: array([[1.5]])\n",
       "      jac: array([0.])\n",
       "  message: 'Optimization terminated successfully.'\n",
       "     nfev: 9\n",
       "      nit: 2\n",
       "     njev: 3\n",
       "   status: 0\n",
       "  success: True\n",
       "        x: array([-7.4505806e-09])"
      ]
     },
     "execution_count": 37,
     "metadata": {},
     "output_type": "execute_result"
    }
   ],
   "source": [
    "Min(g, 1)"
   ]
  },
  {
   "cell_type": "markdown",
   "metadata": {},
   "source": [
    "Both of these are very close to zero!!!"
   ]
  }
 ],
 "metadata": {
  "kernelspec": {
   "display_name": "Python 3",
   "language": "python",
   "name": "python3"
  },
  "language_info": {
   "codemirror_mode": {
    "name": "ipython",
    "version": 3
   },
   "file_extension": ".py",
   "mimetype": "text/x-python",
   "name": "python",
   "nbconvert_exporter": "python",
   "pygments_lexer": "ipython3",
   "version": "3.7.1"
  }
 },
 "nbformat": 4,
 "nbformat_minor": 2
}
